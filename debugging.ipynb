{
 "cells": [
  {
   "cell_type": "markdown",
   "metadata": {},
   "source": [
    "# Convert Python Dictionary to JSON"
   ]
  },
  {
   "cell_type": "code",
   "execution_count": 12,
   "metadata": {},
   "outputs": [],
   "source": [
    "import tiktoken\n",
    "from dotenv import load_dotenv\n",
    "import typing\n",
    "import os\n",
    "import json\n",
    "load_dotenv();\n"
   ]
  },
  {
   "cell_type": "code",
   "execution_count": 20,
   "metadata": {},
   "outputs": [],
   "source": [
    "# ARITHMETIC AGENT\n",
    "\n",
    "formatted_viz_system_message = \"\"\"\n",
    "{{\n",
    "  \"plotOptions\": {{\n",
    "    \"inset\": 10,\n",
    "    \"color\": {{\n",
    "      \"legend\": true\n",
    "    }}\n",
    "  }},\n",
    "  \"marks\": [\n",
    "    {{\n",
    "      \"method\": \"appropriate_visualization_method_here\",\n",
    "      \"data\": 0,\n",
    "      \"options\": {{\n",
    "        \"x\": \"column_for_x_axis\",\n",
    "        \"y\": \"column_for_y_axis\",\n",
    "        \"fill_or_stroke\": \"color_for_subgroup_or_subgroup_attribute\",\n",
    "        \"tip\": true,\n",
    "        \"additional_mark_option_1\": \"value\",\n",
    "        \"additional_mark_option_2\": \"value\",\n",
    "        \"fillColorPalette\": {{\n",
    "          \"subgroup_1\": \"color_1\",\n",
    "          \"subgroup_2\": \"color_2\",\n",
    "          \"subgroup_3\": \"color_3\"\n",
    "        }}\n",
    "      }}\n",
    "    }}\n",
    "  ]\n",
    "}}\n",
    "\"\"\""
   ]
  },
  {
   "cell_type": "code",
   "execution_count": 21,
   "metadata": {},
   "outputs": [
    {
     "name": "stdout",
     "output_type": "stream",
     "text": [
      "JSON data has been saved to python_to_json.json\n"
     ]
    }
   ],
   "source": [
    "# Define the dictionary\n",
    "base_transformations_messages = [{\"role\": \"system\", \"content\": formatted_viz_system_message}]\n",
    "# Convert the dictionary to a JSON string\n",
    "python_to_json = json.dumps(base_transformations_messages, indent=4)\n",
    "\n",
    "# Save the JSON string to a file\n",
    "with open('python_to_json.json', 'w') as file:\n",
    "    file.write(python_to_json)\n",
    "\n",
    "print(\"JSON data has been saved to python_to_json.json\")"
   ]
  },
  {
   "cell_type": "code",
   "execution_count": null,
   "metadata": {},
   "outputs": [],
   "source": []
  }
 ],
 "metadata": {
  "kernelspec": {
   "display_name": "work",
   "language": "python",
   "name": "python3"
  },
  "language_info": {
   "codemirror_mode": {
    "name": "ipython",
    "version": 3
   },
   "file_extension": ".py",
   "mimetype": "text/x-python",
   "name": "python",
   "nbconvert_exporter": "python",
   "pygments_lexer": "ipython3",
   "version": "3.10.11"
  }
 },
 "nbformat": 4,
 "nbformat_minor": 2
}
